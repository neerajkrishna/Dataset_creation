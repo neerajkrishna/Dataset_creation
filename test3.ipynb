{
  "nbformat": 4,
  "nbformat_minor": 0,
  "metadata": {
    "colab": {
      "provenance": [],
      "gpuType": "T4",
      "authorship_tag": "ABX9TyNCVaJDCLOnNOM6nJAt5zCh",
      "include_colab_link": true
    },
    "kernelspec": {
      "name": "python3",
      "display_name": "Python 3"
    },
    "language_info": {
      "name": "python"
    },
    "accelerator": "GPU"
  },
  "cells": [
    {
      "cell_type": "markdown",
      "metadata": {
        "id": "view-in-github",
        "colab_type": "text"
      },
      "source": [
        "<a href=\"https://colab.research.google.com/github/neerajkrishna/Dataset_creation/blob/master/test3.ipynb\" target=\"_parent\"><img src=\"https://colab.research.google.com/assets/colab-badge.svg\" alt=\"Open In Colab\"/></a>"
      ]
    },
    {
      "cell_type": "code",
      "source": [
        "from google.colab import drive\n",
        "drive.mount('/content/drive')"
      ],
      "metadata": {
        "colab": {
          "base_uri": "https://localhost:8080/"
        },
        "id": "mcJ7DhjTY93h",
        "outputId": "0ea86568-29f3-4855-cc37-dff8d4dd753d"
      },
      "execution_count": null,
      "outputs": [
        {
          "output_type": "stream",
          "name": "stdout",
          "text": [
            "Mounted at /content/drive\n"
          ]
        }
      ]
    },
    {
      "cell_type": "code",
      "source": [
        "import os\n",
        "import numpy as np\n",
        "from tensorflow.keras.datasets import mnist\n",
        "from google.colab import drive\n",
        "from shutil import rmtree\n",
        "import matplotlib.pyplot as plt\n",
        "\n",
        "\n",
        "# Mount Google Drive\n",
        "drive.mount('/content/drive')\n",
        "\n",
        "# Load MNIST dataset\n",
        "(x_train, y_train), (_, _) = mnist.load_data()\n",
        "\n",
        "# Function to save images to respective folders\n",
        "def save_images(images, labels, path):\n",
        "    for digit in range(10):\n",
        "        digit_path = os.path.join(path, str(digit))\n",
        "        os.makedirs(digit_path, exist_ok=True)\n",
        "        digit_images = images[labels == digit]\n",
        "        for i, img in enumerate(digit_images):\n",
        "            img_path = os.path.join(digit_path, f'{digit}_{i}.png')\n",
        "            plt.imsave(img_path, img, cmap='gray')\n",
        "\n",
        "# Create datasets with reduced number of digit 0 images\n",
        "reductions = [1000, 600, 300, 100, 50]\n",
        "base_path = '/content/drive/My Drive/Mnist_new'\n",
        "\n",
        "# Remove the base path if it already exists\n",
        "if os.path.exists(base_path):\n",
        "    rmtree(base_path)\n",
        "os.makedirs(base_path, exist_ok=True)\n",
        "\n",
        "for i, reduction in enumerate(reductions):\n",
        "    dataset_path = os.path.join(base_path, f'Dataset_{i+1}')\n",
        "    os.makedirs(dataset_path, exist_ok=True)\n",
        "\n",
        "    # Get images and labels for digit 0 and reduce their number\n",
        "    zero_images = x_train[y_train == 0][:reduction]\n",
        "    zero_labels = y_train[y_train == 0][:reduction]\n",
        "\n",
        "    # Get images and labels for digits 1 to 9\n",
        "    other_images = x_train[y_train != 0]\n",
        "    other_labels = y_train[y_train != 0]\n",
        "\n",
        "    # Combine the images and labels\n",
        "    combined_images = np.concatenate((zero_images, other_images), axis=0)\n",
        "    combined_labels = np.concatenate((zero_labels, other_labels), axis=0)\n",
        "\n",
        "    # Shuffle the combined dataset\n",
        "    shuffle_indices = np.arange(combined_images.shape[0])\n",
        "    np.random.shuffle(shuffle_indices)\n",
        "    combined_images = combined_images[shuffle_indices]\n",
        "    combined_labels = combined_labels[shuffle_indices]\n",
        "\n",
        "    # Save images to Google Drive\n",
        "    save_images(combined_images, combined_labels, dataset_path)\n"
      ],
      "metadata": {
        "colab": {
          "base_uri": "https://localhost:8080/"
        },
        "id": "G2ur6LovYLdp",
        "outputId": "8e041c05-0e3a-4aa6-a53f-70402b2d3cf8"
      },
      "execution_count": null,
      "outputs": [
        {
          "metadata": {
            "tags": null
          },
          "name": "stdout",
          "output_type": "stream",
          "text": [
            "Drive already mounted at /content/drive; to attempt to forcibly remount, call drive.mount(\"/content/drive\", force_remount=True).\n"
          ]
        }
      ]
    }
  ]
}